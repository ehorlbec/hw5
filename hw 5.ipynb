{
 "cells": [
  {
   "cell_type": "code",
   "execution_count": 2,
   "id": "b626e0f0",
   "metadata": {},
   "outputs": [
    {
     "name": "stdout",
     "output_type": "stream",
     "text": [
      "tensor([[0.4822, 0.0479, 0.2379],\n",
      "        [0.5485, 0.3291, 0.5100],\n",
      "        [0.6808, 0.8669, 0.9994],\n",
      "        [0.8577, 0.7473, 0.8922],\n",
      "        [0.4269, 0.8139, 0.5198]])\n"
     ]
    }
   ],
   "source": [
    "\n"
   ]
  },
  {
   "cell_type": "code",
   "execution_count": 53,
   "id": "f9ae7aa4",
   "metadata": {},
   "outputs": [
    {
     "ename": "TypeError",
     "evalue": "model() missing 1 required positional argument: 'b'",
     "output_type": "error",
     "traceback": [
      "\u001b[1;31m---------------------------------------------------------------------------\u001b[0m",
      "\u001b[1;31mTypeError\u001b[0m                                 Traceback (most recent call last)",
      "Input \u001b[1;32mIn [53]\u001b[0m, in \u001b[0;36m<cell line: 13>\u001b[1;34m()\u001b[0m\n\u001b[0;32m     11\u001b[0m w \u001b[38;5;241m=\u001b[39m torch\u001b[38;5;241m.\u001b[39mones(()) \u001b[38;5;66;03m#initial W is 1\u001b[39;00m\n\u001b[0;32m     12\u001b[0m b \u001b[38;5;241m=\u001b[39m torch\u001b[38;5;241m.\u001b[39mzeros(()) \u001b[38;5;66;03m#initial b is 0\u001b[39;00m\n\u001b[1;32m---> 13\u001b[0m t_p \u001b[38;5;241m=\u001b[39m \u001b[43mmodel\u001b[49m\u001b[43m(\u001b[49m\u001b[43mt_u\u001b[49m\u001b[43m,\u001b[49m\u001b[43m \u001b[49m\u001b[43mw\u001b[49m\u001b[43m,\u001b[49m\u001b[43m \u001b[49m\u001b[43mb\u001b[49m\u001b[43m)\u001b[49m \u001b[38;5;66;03m#issue****************************\u001b[39;00m\n\u001b[0;32m     14\u001b[0m t_p\n\u001b[0;32m     15\u001b[0m loss \u001b[38;5;241m=\u001b[39m loss_fn(t_p, t_c)\n",
      "\u001b[1;31mTypeError\u001b[0m: model() missing 1 required positional argument: 'b'"
     ]
    }
   ],
   "source": [
    "import torch\n",
    "t_c = [0.5, 14.0, 15.0, 28.0, 11.0, 8.0, 3.0, -4.0, 6.0, 13.0, 21.0]\n",
    "t_u = [35.7, 55.9, 58.2, 81.9, 56.3, 48.9, 33.9, 21.8, 48.4, 60.4, 68.4]\n",
    "t_c = torch.tensor(t_c)\n",
    "t_u = torch.tensor(t_u)\n",
    "def model(t_u, w1, w2, b):\n",
    "    return w2 * t_u ** 2 + w1 * t_u + b\n",
    "def loss_fn(t_p, t_c):\n",
    "    squared_diffs = (t_p - t_c)**2\n",
    "    return squared_diffs.mean()\n",
    "w = torch.ones(()) #initial W is 1\n",
    "b = torch.zeros(()) #initial b is 0\n",
    "t_p = model(t_u, w, b) #issue****************************\n",
    "t_p\n",
    "loss = loss_fn(t_p, t_c)\n",
    "loss\n",
    "delta = 0.1\n",
    "loss_rate_of_change_w = \\\n",
    "(loss_fn(model(t_u, w + delta, b), t_c) -\n",
    "loss_fn(model(t_u, w - delta, b), t_c)) / (2.0 * delta)\n",
    "learning_rate = 1e-2     #means 0.01 as the changing rate for our parameters.\n",
    "w = w - learning_rate * loss_rate_of_change_w\n",
    "loss_rate_of_change_b = \\\n",
    "(loss_fn(model(t_u, w, b + delta), t_c) -\n",
    "loss_fn(model(t_u, w, b - delta), t_c)) / (2.0 * delta)\n",
    "b = b - learning_rate * loss_rate_of_change_b\n"
   ]
  },
  {
   "cell_type": "code",
   "execution_count": null,
   "id": "c7ec8c9a",
   "metadata": {},
   "outputs": [],
   "source": []
  },
  {
   "cell_type": "code",
   "execution_count": 54,
   "id": "8db9280e",
   "metadata": {},
   "outputs": [],
   "source": [
    "def dloss_fn(t_p, t_c):\n",
    "    squared_diffs = 2 * (t_p - t_c) / t_p. size(0)\n",
    "    return dsq_diffs"
   ]
  },
  {
   "cell_type": "code",
   "execution_count": 55,
   "id": "79d442a2",
   "metadata": {},
   "outputs": [],
   "source": [
    "def dmodel(t_u,w,b):\n",
    "        return t_u"
   ]
  },
  {
   "cell_type": "code",
   "execution_count": 56,
   "id": "b67cb110",
   "metadata": {},
   "outputs": [],
   "source": [
    "def dmodel(t_u,w,b):\n",
    "    return 1.0"
   ]
  },
  {
   "cell_type": "code",
   "execution_count": 57,
   "id": "5a74445e",
   "metadata": {},
   "outputs": [
    {
     "ename": "SyntaxError",
     "evalue": "invalid syntax (689972340.py, line 5)",
     "output_type": "error",
     "traceback": [
      "\u001b[1;36m  Input \u001b[1;32mIn [57]\u001b[1;36m\u001b[0m\n\u001b[1;33m    retuen torch.stack([dloss_dw.sum(), dloss_db.sum()])\u001b[0m\n\u001b[1;37m           ^\u001b[0m\n\u001b[1;31mSyntaxError\u001b[0m\u001b[1;31m:\u001b[0m invalid syntax\n"
     ]
    }
   ],
   "source": [
    "def grad_fn(t_u,t_c,t_p,w,b):\n",
    "    dloss_dtp = dloss_fn(t_p, t_c)\n",
    "    dloss_dw = dloss_dtp * dmodel_dw(t_u,w,b)\n",
    "    dloss_db = dloss_dtp * dmodel_db(t_u,w,b)\n",
    "    retuen torch.stack([dloss_dw.sum(), dloss_db.sum()])"
   ]
  },
  {
   "cell_type": "code",
   "execution_count": 48,
   "id": "25f9bd34",
   "metadata": {},
   "outputs": [],
   "source": [
    "def training_loop(n_epochs, learning_rate, params, t_u, t_c):\n",
    "    for epoch in range(1,n_epochs +1):\n",
    "        w, b = params\n",
    "        \n",
    "        t_p = model(t_u, w, b)\n",
    "        loss = loss_fn(t_p, t_c)\n",
    "        grad = gradfn(t_u, t_c, t_p, w, b)\n",
    "        \n",
    "        params = params - learning_rate * grad\n",
    "        print('Epoch %d, Loss %f' % (epoch, float(loss)))\n",
    "        return params"
   ]
  },
  {
   "cell_type": "code",
   "execution_count": 50,
   "id": "204626b9",
   "metadata": {},
   "outputs": [
    {
     "ename": "ValueError",
     "evalue": "too many values to unpack (expected 2)",
     "output_type": "error",
     "traceback": [
      "\u001b[1;31m---------------------------------------------------------------------------\u001b[0m",
      "\u001b[1;31mValueError\u001b[0m                                Traceback (most recent call last)",
      "Input \u001b[1;32mIn [50]\u001b[0m, in \u001b[0;36m<cell line: 1>\u001b[1;34m()\u001b[0m\n\u001b[1;32m----> 1\u001b[0m \u001b[43mtraining_loop\u001b[49m\u001b[43m(\u001b[49m\n\u001b[0;32m      2\u001b[0m \u001b[43mn_epochs\u001b[49m\u001b[43m \u001b[49m\u001b[38;5;241;43m=\u001b[39;49m\u001b[43m \u001b[49m\u001b[38;5;241;43m100\u001b[39;49m\u001b[43m,\u001b[49m\n\u001b[0;32m      3\u001b[0m \u001b[43mlearning_rate\u001b[49m\u001b[43m \u001b[49m\u001b[38;5;241;43m=\u001b[39;49m\u001b[43m \u001b[49m\u001b[38;5;241;43m1e-2\u001b[39;49m\u001b[43m,\u001b[49m\n\u001b[0;32m      4\u001b[0m \u001b[43mparams\u001b[49m\u001b[43m \u001b[49m\u001b[38;5;241;43m=\u001b[39;49m\u001b[43m \u001b[49m\u001b[43mtorch\u001b[49m\u001b[38;5;241;43m.\u001b[39;49m\u001b[43mtensor\u001b[49m\u001b[43m \u001b[49m\u001b[43m(\u001b[49m\u001b[43m[\u001b[49m\u001b[38;5;241;43m1.0\u001b[39;49m\u001b[43m,\u001b[49m\u001b[43m \u001b[49m\u001b[38;5;241;43m0\u001b[39;49m\u001b[43m,\u001b[49m\u001b[38;5;241;43m0\u001b[39;49m\u001b[43m]\u001b[49m\u001b[43m)\u001b[49m\u001b[43m,\u001b[49m\n\u001b[0;32m      5\u001b[0m \u001b[43mt_u\u001b[49m\u001b[43m \u001b[49m\u001b[38;5;241;43m=\u001b[39;49m\u001b[43m \u001b[49m\u001b[43mt_u\u001b[49m\u001b[43m,\u001b[49m\n\u001b[0;32m      6\u001b[0m \u001b[43mt_c\u001b[49m\u001b[43m \u001b[49m\u001b[38;5;241;43m=\u001b[39;49m\u001b[43m \u001b[49m\u001b[43mt_c\u001b[49m\u001b[43m)\u001b[49m\n",
      "Input \u001b[1;32mIn [48]\u001b[0m, in \u001b[0;36mtraining_loop\u001b[1;34m(n_epochs, learning_rate, params, t_u, t_c)\u001b[0m\n\u001b[0;32m      1\u001b[0m \u001b[38;5;28;01mdef\u001b[39;00m \u001b[38;5;21mtraining_loop\u001b[39m(n_epochs, learning_rate, params, t_u, t_c):\n\u001b[0;32m      2\u001b[0m     \u001b[38;5;28;01mfor\u001b[39;00m epoch \u001b[38;5;129;01min\u001b[39;00m \u001b[38;5;28mrange\u001b[39m(\u001b[38;5;241m1\u001b[39m,n_epochs \u001b[38;5;241m+\u001b[39m\u001b[38;5;241m1\u001b[39m):\n\u001b[1;32m----> 3\u001b[0m         w, b \u001b[38;5;241m=\u001b[39m params\n\u001b[0;32m      5\u001b[0m         t_p \u001b[38;5;241m=\u001b[39m model(t_u, w, b)\n\u001b[0;32m      6\u001b[0m         loss \u001b[38;5;241m=\u001b[39m loss_fn(t_p, t_c)\n",
      "\u001b[1;31mValueError\u001b[0m: too many values to unpack (expected 2)"
     ]
    }
   ],
   "source": [
    "training_loop(\n",
    "n_epochs = 100,\n",
    "learning_rate = 1e-2,\n",
    "params = torch.tensor ([1.0, 0,0]),\n",
    "t_u = t_u,\n",
    "t_c = t_c)"
   ]
  },
  {
   "cell_type": "code",
   "execution_count": 51,
   "id": "96df4d0c",
   "metadata": {},
   "outputs": [
    {
     "ename": "ValueError",
     "evalue": "too many values to unpack (expected 2)",
     "output_type": "error",
     "traceback": [
      "\u001b[1;31m---------------------------------------------------------------------------\u001b[0m",
      "\u001b[1;31mValueError\u001b[0m                                Traceback (most recent call last)",
      "Input \u001b[1;32mIn [51]\u001b[0m, in \u001b[0;36m<cell line: 1>\u001b[1;34m()\u001b[0m\n\u001b[1;32m----> 1\u001b[0m \u001b[43mtraining_loop\u001b[49m\u001b[43m(\u001b[49m\n\u001b[0;32m      2\u001b[0m \u001b[43mn_epochs\u001b[49m\u001b[43m \u001b[49m\u001b[38;5;241;43m=\u001b[39;49m\u001b[43m \u001b[49m\u001b[38;5;241;43m100\u001b[39;49m\u001b[43m,\u001b[49m\n\u001b[0;32m      3\u001b[0m \u001b[43mlearning_rate\u001b[49m\u001b[43m \u001b[49m\u001b[38;5;241;43m=\u001b[39;49m\u001b[43m \u001b[49m\u001b[38;5;241;43m1e-4\u001b[39;49m\u001b[43m,\u001b[49m\n\u001b[0;32m      4\u001b[0m \u001b[43mparams\u001b[49m\u001b[43m \u001b[49m\u001b[38;5;241;43m=\u001b[39;49m\u001b[43m \u001b[49m\u001b[43mtorch\u001b[49m\u001b[38;5;241;43m.\u001b[39;49m\u001b[43mtensor\u001b[49m\u001b[43m \u001b[49m\u001b[43m(\u001b[49m\u001b[43m[\u001b[49m\u001b[38;5;241;43m1.0\u001b[39;49m\u001b[43m,\u001b[49m\u001b[43m \u001b[49m\u001b[38;5;241;43m0\u001b[39;49m\u001b[43m,\u001b[49m\u001b[38;5;241;43m0\u001b[39;49m\u001b[43m]\u001b[49m\u001b[43m)\u001b[49m\u001b[43m,\u001b[49m\n\u001b[0;32m      5\u001b[0m \u001b[43mt_u\u001b[49m\u001b[43m \u001b[49m\u001b[38;5;241;43m=\u001b[39;49m\u001b[43m \u001b[49m\u001b[43mt_u\u001b[49m\u001b[43m,\u001b[49m\n\u001b[0;32m      6\u001b[0m \u001b[43mt_c\u001b[49m\u001b[43m \u001b[49m\u001b[38;5;241;43m=\u001b[39;49m\u001b[43m \u001b[49m\u001b[43mt_c\u001b[49m\u001b[43m)\u001b[49m\n",
      "Input \u001b[1;32mIn [48]\u001b[0m, in \u001b[0;36mtraining_loop\u001b[1;34m(n_epochs, learning_rate, params, t_u, t_c)\u001b[0m\n\u001b[0;32m      1\u001b[0m \u001b[38;5;28;01mdef\u001b[39;00m \u001b[38;5;21mtraining_loop\u001b[39m(n_epochs, learning_rate, params, t_u, t_c):\n\u001b[0;32m      2\u001b[0m     \u001b[38;5;28;01mfor\u001b[39;00m epoch \u001b[38;5;129;01min\u001b[39;00m \u001b[38;5;28mrange\u001b[39m(\u001b[38;5;241m1\u001b[39m,n_epochs \u001b[38;5;241m+\u001b[39m\u001b[38;5;241m1\u001b[39m):\n\u001b[1;32m----> 3\u001b[0m         w, b \u001b[38;5;241m=\u001b[39m params\n\u001b[0;32m      5\u001b[0m         t_p \u001b[38;5;241m=\u001b[39m model(t_u, w, b)\n\u001b[0;32m      6\u001b[0m         loss \u001b[38;5;241m=\u001b[39m loss_fn(t_p, t_c)\n",
      "\u001b[1;31mValueError\u001b[0m: too many values to unpack (expected 2)"
     ]
    }
   ],
   "source": [
    "training_loop(\n",
    "n_epochs = 100,\n",
    "learning_rate = 1e-4,\n",
    "params = torch.tensor ([1.0, 0,0]),\n",
    "t_u = t_u,\n",
    "t_c = t_c)"
   ]
  },
  {
   "cell_type": "code",
   "execution_count": null,
   "id": "4fd1c0f5",
   "metadata": {},
   "outputs": [],
   "source": [
    "t_un = 0.1 *t_u"
   ]
  },
  {
   "cell_type": "code",
   "execution_count": null,
   "id": "f54e0fbc",
   "metadata": {},
   "outputs": [],
   "source": [
    "training_loop(\n",
    "n_epochs = 100,\n",
    "learning_rate = 1e-2,\n",
    "params = torch.tensor ([1.0, 0,0]),\n",
    "t_u = t_un,\n",
    "t_c = t_c)"
   ]
  },
  {
   "cell_type": "code",
   "execution_count": null,
   "id": "9b9b9b75",
   "metadata": {},
   "outputs": [],
   "source": [
    "training_loop(\n",
    "n_epochs = 5000,\n",
    "learning_rate = 1e-2,\n",
    "params = torch.tensor ([1.0, 0,0]),\n",
    "t_u = t_un,\n",
    "t_c = t_c,\n",
    "print_params = False)\n",
    "Params"
   ]
  },
  {
   "cell_type": "code",
   "execution_count": 52,
   "id": "e1cbb739",
   "metadata": {},
   "outputs": [
    {
     "ename": "NameError",
     "evalue": "name 't_un' is not defined",
     "output_type": "error",
     "traceback": [
      "\u001b[1;31m---------------------------------------------------------------------------\u001b[0m",
      "\u001b[1;31mNameError\u001b[0m                                 Traceback (most recent call last)",
      "Input \u001b[1;32mIn [52]\u001b[0m, in \u001b[0;36m<cell line: 4>\u001b[1;34m()\u001b[0m\n\u001b[0;32m      1\u001b[0m get_ipython()\u001b[38;5;241m.\u001b[39mrun_line_magic(\u001b[38;5;124m'\u001b[39m\u001b[38;5;124mmatplotlib\u001b[39m\u001b[38;5;124m'\u001b[39m, \u001b[38;5;124m'\u001b[39m\u001b[38;5;124minline\u001b[39m\u001b[38;5;124m'\u001b[39m)\n\u001b[0;32m      2\u001b[0m \u001b[38;5;28;01mfrom\u001b[39;00m \u001b[38;5;21;01mmatplotlib\u001b[39;00m \u001b[38;5;28;01mimport\u001b[39;00m pyplot \u001b[38;5;28;01mas\u001b[39;00m plt\n\u001b[1;32m----> 4\u001b[0m t_p \u001b[38;5;241m=\u001b[39m model(\u001b[43mt_un\u001b[49m, \u001b[38;5;241m*\u001b[39mparams)\n\u001b[0;32m      6\u001b[0m fig \u001b[38;5;241m=\u001b[39m plt\u001b[38;5;241m.\u001b[39mfigure(dpi\u001b[38;5;241m=\u001b[39m\u001b[38;5;241m600\u001b[39m)\n\u001b[0;32m      7\u001b[0m plt\u001b[38;5;241m.\u001b[39mxlabel(\u001b[38;5;124m\"\u001b[39m\u001b[38;5;124mtemperature(Farenheight)\u001b[39m\u001b[38;5;124m\"\u001b[39m)\n",
      "\u001b[1;31mNameError\u001b[0m: name 't_un' is not defined"
     ]
    }
   ],
   "source": [
    "%matplotlib inline\n",
    "from matplotlib import pyplot as plt\n",
    "\n",
    "t_p = model(t_un, *params)\n",
    "\n",
    "fig = plt.figure(dpi=600)\n",
    "plt.xlabel(\"temperature(Farenheit)\")\n",
    "plt.ylabel(\"temperature(celcius)\")\n",
    "plt.plot(t_u.numpy(),detach().numpy())\n",
    "plt.plot(t_u.numpy(), t_c.numpy(), 'o')"
   ]
  },
  {
   "cell_type": "code",
   "execution_count": null,
   "id": "30ade1e0",
   "metadata": {},
   "outputs": [],
   "source": [
    "#problem2\n"
   ]
  },
  {
   "cell_type": "code",
   "execution_count": null,
   "id": "b88ddd60",
   "metadata": {},
   "outputs": [],
   "source": [
    "import numpy as np\n",
    "from sklearn.svm import SVR \n",
    "import pandas as pd\n",
    "import matplotlib.pyplot as plt\n",
    "from sklearn.preprocessing import Normalizer\n",
    "from sklearn.preprocessing import StandardScaler\n",
    "from sklearn.model_selection import train_test_split\n",
    "df = pd.read_csv(\"Housing.csv\")\n",
    "print(\"CSV File Shape\")\n",
    "print(df.shape)\n",
    "df.head()\n",
    "\n",
    "svar_list = ['area', 'bedrooms', 'bathrooms', 'stories','parking']\n",
    "def binary_mapping(x):\n",
    "    return x.map({'yes':1, 'no':0})\n",
    "df[svar_list] = df[svar_list].apply(binary_mapping)\n",
    "df.head()\n"
   ]
  },
  {
   "cell_type": "code",
   "execution_count": null,
   "id": "cea26bec",
   "metadata": {},
   "outputs": [],
   "source": [
    "import torch\n",
    "#******\n",
    "t_c = torch.tensor(t_c)\n",
    "t_u = torch.tensor(t_u)\n",
    "def model(t_u, w1, w2, b):\n",
    "    return W5*X5 + W4*X4 + W3*X3 + W2*X2 + W1*X1 + B\n",
    "def loss_fn(t_p, t_c):\n",
    "    squared_diffs = (t_p - t_c)**2\n",
    "    return squared_diffs.mean()\n",
    "w = torch.ones(()) #initial W is 1\n",
    "b = torch.zeros(()) #initial b is 0\n",
    "t_p = model(t_u, w, b) #issue****************************\n",
    "t_p\n",
    "loss = loss_fn(t_p, t_c)\n",
    "loss\n",
    "delta = 0.1\n",
    "loss_rate_of_change_w = \\\n",
    "(loss_fn(model(t_u, w + delta, b), t_c) -\n",
    "loss_fn(model(t_u, w - delta, b), t_c)) / (2.0 * delta)\n",
    "learning_rate = 1e-2     #means 0.01 as the changing rate for our parameters.\n",
    "w = w - learning_rate * loss_rate_of_change_w\n",
    "loss_rate_of_change_b = \\\n",
    "(loss_fn(model(t_u, w, b + delta), t_c) -\n",
    "loss_fn(model(t_u, w, b - delta), t_c)) / (2.0 * delta)\n",
    "b = b - learning_rate * loss_rate_of_change_b"
   ]
  },
  {
   "cell_type": "code",
   "execution_count": null,
   "id": "23493dce",
   "metadata": {},
   "outputs": [],
   "source": [
    "def dloss_fn(t_p, t_c):\n",
    "    squared_diffs = 2 * (t_p - t_c) / t_p. size(0)\n",
    "    return dsq_diffs"
   ]
  },
  {
   "cell_type": "code",
   "execution_count": null,
   "id": "c4e4f244",
   "metadata": {},
   "outputs": [],
   "source": [
    "\n",
    "def dmodel(t_u,w,b):\n",
    "        return t_u\n",
    "def dmodel(t_u,w,b):\n",
    "    return 1.0\n",
    "def grad_fn(t_u,t_c,t_p,w,b):\n",
    "    dloss_dtp = dloss_fn(t_p, t_c)\n",
    "    dloss_dw = dloss_dtp * dmodel_dw(t_u,w,b)\n",
    "    dloss_db = dloss_dtp * dmodel_db(t_u,w,b)\n",
    "    retuen torch.stack([dloss_dw.sum(), dloss_db.sum()])"
   ]
  },
  {
   "cell_type": "code",
   "execution_count": null,
   "id": "1efae47f",
   "metadata": {},
   "outputs": [],
   "source": [
    "def training_loop(n_epochs, learning_rate, params, t_u, t_c):\n",
    "    for epoch in range(1,n_epochs +1):\n",
    "        w, b = params\n",
    "        \n",
    "        t_p = model(t_u, w, b)\n",
    "        loss = loss_fn(t_p, t_c)\n",
    "        grad = gradfn(t_u, t_c, t_p, w, b)\n",
    "        \n",
    "        params = params - learning_rate * grad\n",
    "        print('Epoch %d, Loss %f' % (epoch, float(loss)))\n",
    "        return params\n",
    "training_loop(\n",
    "n_epochs = 100,\n",
    "learning_rate = 1e-2,\n",
    "params = torch.tensor ([1.0, 0,0]),\n",
    "t_u = t_u,\n",
    "t_c = t_c)"
   ]
  },
  {
   "cell_type": "code",
   "execution_count": 58,
   "id": "3dc7300a",
   "metadata": {},
   "outputs": [
    {
     "ename": "ValueError",
     "evalue": "too many values to unpack (expected 2)",
     "output_type": "error",
     "traceback": [
      "\u001b[1;31m---------------------------------------------------------------------------\u001b[0m",
      "\u001b[1;31mValueError\u001b[0m                                Traceback (most recent call last)",
      "Input \u001b[1;32mIn [58]\u001b[0m, in \u001b[0;36m<cell line: 1>\u001b[1;34m()\u001b[0m\n\u001b[1;32m----> 1\u001b[0m \u001b[43mtraining_loop\u001b[49m\u001b[43m(\u001b[49m\n\u001b[0;32m      2\u001b[0m \u001b[43mn_epochs\u001b[49m\u001b[43m \u001b[49m\u001b[38;5;241;43m=\u001b[39;49m\u001b[43m \u001b[49m\u001b[38;5;241;43m100\u001b[39;49m\u001b[43m,\u001b[49m\n\u001b[0;32m      3\u001b[0m \u001b[43mlearning_rate\u001b[49m\u001b[43m \u001b[49m\u001b[38;5;241;43m=\u001b[39;49m\u001b[43m \u001b[49m\u001b[38;5;241;43m1e-4\u001b[39;49m\u001b[43m,\u001b[49m\n\u001b[0;32m      4\u001b[0m \u001b[43mparams\u001b[49m\u001b[43m \u001b[49m\u001b[38;5;241;43m=\u001b[39;49m\u001b[43m \u001b[49m\u001b[43mtorch\u001b[49m\u001b[38;5;241;43m.\u001b[39;49m\u001b[43mtensor\u001b[49m\u001b[43m \u001b[49m\u001b[43m(\u001b[49m\u001b[43m[\u001b[49m\u001b[38;5;241;43m1.0\u001b[39;49m\u001b[43m,\u001b[49m\u001b[43m \u001b[49m\u001b[38;5;241;43m0\u001b[39;49m\u001b[43m,\u001b[49m\u001b[38;5;241;43m0\u001b[39;49m\u001b[43m]\u001b[49m\u001b[43m)\u001b[49m\u001b[43m,\u001b[49m\n\u001b[0;32m      5\u001b[0m \u001b[43mt_u\u001b[49m\u001b[43m \u001b[49m\u001b[38;5;241;43m=\u001b[39;49m\u001b[43m \u001b[49m\u001b[43mt_u\u001b[49m\u001b[43m,\u001b[49m\n\u001b[0;32m      6\u001b[0m \u001b[43mt_c\u001b[49m\u001b[43m \u001b[49m\u001b[38;5;241;43m=\u001b[39;49m\u001b[43m \u001b[49m\u001b[43mt_c\u001b[49m\u001b[43m)\u001b[49m\n",
      "Input \u001b[1;32mIn [48]\u001b[0m, in \u001b[0;36mtraining_loop\u001b[1;34m(n_epochs, learning_rate, params, t_u, t_c)\u001b[0m\n\u001b[0;32m      1\u001b[0m \u001b[38;5;28;01mdef\u001b[39;00m \u001b[38;5;21mtraining_loop\u001b[39m(n_epochs, learning_rate, params, t_u, t_c):\n\u001b[0;32m      2\u001b[0m     \u001b[38;5;28;01mfor\u001b[39;00m epoch \u001b[38;5;129;01min\u001b[39;00m \u001b[38;5;28mrange\u001b[39m(\u001b[38;5;241m1\u001b[39m,n_epochs \u001b[38;5;241m+\u001b[39m\u001b[38;5;241m1\u001b[39m):\n\u001b[1;32m----> 3\u001b[0m         w, b \u001b[38;5;241m=\u001b[39m params\n\u001b[0;32m      5\u001b[0m         t_p \u001b[38;5;241m=\u001b[39m model(t_u, w, b)\n\u001b[0;32m      6\u001b[0m         loss \u001b[38;5;241m=\u001b[39m loss_fn(t_p, t_c)\n",
      "\u001b[1;31mValueError\u001b[0m: too many values to unpack (expected 2)"
     ]
    }
   ],
   "source": [
    "training_loop(\n",
    "n_epochs = 100,\n",
    "learning_rate = 1e-4,\n",
    "params = torch.tensor ([1.0, 0,0]),\n",
    "t_u = t_u,\n",
    "t_c = t_c)"
   ]
  },
  {
   "cell_type": "markdown",
   "id": "94781e49",
   "metadata": {},
   "source": [
    "\n",
    "t_un = 0.1 *t_u\n",
    "training_loop(\n",
    "n_epochs = 100,\n",
    "learning_rate = 1e-2,\n",
    "params = torch.tensor ([1.0, 0,0]),\n",
    "t_u = t_un,\n",
    "t_c = t_c)\n",
    "training_loop(\n",
    "n_epochs = 5000,\n",
    "learning_rate = 1e-2,\n",
    "params = torch.tensor ([1.0, 0,0]),\n",
    "t_u = t_un,\n",
    "t_c = t_c,\n",
    "print_params = False)\n",
    "Params\n",
    "%matplotlib inline\n",
    "from matplotlib import pyplot as plt\n",
    "​\n",
    "t_p = model(t_un, *params)\n",
    "​\n",
    "fig = plt.figure(dpi=600)\n",
    "plt.xlabel(\"temperature(Farenheight)\")\n",
    "plt.ylabel(\"temperature(celcius)\")\n",
    "plt.plot(t_u.numpy(),detach().numpy())\n",
    "plt.plot(t_u.numpy(), t_c.numpy(), 'o')"
   ]
  },
  {
   "cell_type": "code",
   "execution_count": null,
   "id": "d908a4f0",
   "metadata": {},
   "outputs": [],
   "source": []
  },
  {
   "cell_type": "code",
   "execution_count": null,
   "id": "bb8059c4",
   "metadata": {},
   "outputs": [],
   "source": [
    "#problem 3"
   ]
  },
  {
   "cell_type": "code",
   "execution_count": null,
   "id": "cd5eb730",
   "metadata": {},
   "outputs": [],
   "source": [
    "import torch.nn as nn\n",
    "\n",
    "linear_model = nn.Linear(1,1)\n",
    "linear_model(t_un_val)"
   ]
  },
  {
   "cell_type": "code",
   "execution_count": null,
   "id": "67b51347",
   "metadata": {},
   "outputs": [],
   "source": [
    "linear_model.weight"
   ]
  },
  {
   "cell_type": "code",
   "execution_count": null,
   "id": "3cf24c0c",
   "metadata": {},
   "outputs": [],
   "source": [
    "linear_model.bias"
   ]
  },
  {
   "cell_type": "code",
   "execution_count": null,
   "id": "fff64a80",
   "metadata": {},
   "outputs": [],
   "source": [
    "x = torch.ones(10, 1)\n",
    "linear_model(x)"
   ]
  },
  {
   "cell_type": "code",
   "execution_count": null,
   "id": "1b02ba61",
   "metadata": {},
   "outputs": [],
   "source": [
    "linear_model = nn.Linear(1,1)\n",
    "optimiser = optim.SGD(\n",
    "    linear_model.parameters(),\n",
    "    1r=1e-2)"
   ]
  },
  {
   "cell_type": "code",
   "execution_count": null,
   "id": "89181d82",
   "metadata": {},
   "outputs": [],
   "source": [
    "def training_loop(n_epochs, optimizer, model, loss_fn, t_u_train, t_u_val, t_c_train, t_c_val):\n",
    "    for epoch in range(1, n_epochs + 1):\n",
    "        t_p_train = model(t_u_val)\n",
    "        loss_train = los_fn(t_p_train, t_c_train)\n",
    "        \n",
    "        t_p_val = model(t_u_val)\n",
    "        \n",
    "loss_val = loss_fn(t_p_val, t_c_val)\n",
    "optimizer.zero_grad()\n",
    "loss_train.backward()\n",
    "optimizer.step()\n",
    "\n",
    "if epoch == 1 or epoch % 1000 == 0:\n",
    "    print(f\"Epoch{epoch}, Training loss {loss_train.item():.4f},\"\n",
    "          f\"validation loss{loss_val.item():.4f}\")"
   ]
  },
  {
   "cell_type": "code",
   "execution_count": 60,
   "id": "82e83260",
   "metadata": {},
   "outputs": [
    {
     "ename": "SyntaxError",
     "evalue": "invalid syntax (3051228122.py, line 2)",
     "output_type": "error",
     "traceback": [
      "\u001b[1;36m  Input \u001b[1;32mIn [60]\u001b[1;36m\u001b[0m\n\u001b[1;33m    optimizer = optim.SGD(linear_model.parameters(), 1r = 1e-2)\u001b[0m\n\u001b[1;37m                                                      ^\u001b[0m\n\u001b[1;31mSyntaxError\u001b[0m\u001b[1;31m:\u001b[0m invalid syntax\n"
     ]
    }
   ],
   "source": [
    "linear_model = nn.Linear(1, 1)\n",
    "optimizer = optim.SGD(linear_model.parameters(), 1r = 1e-2)\n",
    "\n",
    "training_loop(\n",
    "    n_epochs = 3000,\n",
    "    optimizer = optimizer,\n",
    "    model = linear_model,\n",
    "    loss_fn = nn.MSELoss(),\n",
    "    t_u_train = t_un_train,\n",
    "    t_u_val = t_un_val,\n",
    "    t_c_train = t_c_train,\n",
    "    t_c_val = t_c_val,)\n",
    "print()\n",
    "print(linear_model.weight)\n",
    "print(linear_model.bias)"
   ]
  },
  {
   "cell_type": "code",
   "execution_count": null,
   "id": "635849cd",
   "metadata": {},
   "outputs": [],
   "source": [
    "seq_model = nn.Sequential(\n",
    "            nn.Linear(1,13),\n",
    "            nn.Tanh(),\n",
    "            nn.Linear(13,1))\n",
    "seq_model"
   ]
  },
  {
   "cell_type": "code",
   "execution_count": null,
   "id": "69845b5b",
   "metadata": {},
   "outputs": [],
   "source": [
    "[param.shape for param in seq_model.parameters()]"
   ]
  },
  {
   "cell_type": "code",
   "execution_count": null,
   "id": "a511e7e4",
   "metadata": {},
   "outputs": [],
   "source": [
    "for name, param in seq_model.named_parameters():\n",
    "    print(name, param.shape)"
   ]
  },
  {
   "cell_type": "code",
   "execution_count": null,
   "id": "2592795e",
   "metadata": {},
   "outputs": [],
   "source": [
    "seq_model.output_linear.bias"
   ]
  },
  {
   "cell_type": "code",
   "execution_count": null,
   "id": "6ceb5515",
   "metadata": {},
   "outputs": [],
   "source": [
    "optimizer = optim.SGD(seq_model.parameters(), 1r = 1e-3)\n",
    "training_loop(\n",
    "    n_epochs = 5000,\n",
    "    optimizer = optimizer,\n",
    "    model = seq_model,\n",
    "    loss_fn = nn.MSELoss(),\n",
    "    t_u_train = t_un_train,\n",
    "    t_u_val = t_un_val,\n",
    "    t_c_train = t_c_train,\n",
    "    t_c_val = t_c_val,)\n",
    "print()\n",
    "print('output', seq_model(t_un_val))\n",
    "print('answer', t_c_val)\n",
    "print('hidden', seq_model.hidden_linear.weight.grad)"
   ]
  },
  {
   "cell_type": "code",
   "execution_count": 61,
   "id": "06ad8125",
   "metadata": {},
   "outputs": [
    {
     "ename": "NameError",
     "evalue": "name 'seq_model' is not defined",
     "output_type": "error",
     "traceback": [
      "\u001b[1;31m---------------------------------------------------------------------------\u001b[0m",
      "\u001b[1;31mNameError\u001b[0m                                 Traceback (most recent call last)",
      "Input \u001b[1;32mIn [61]\u001b[0m, in \u001b[0;36m<cell line: 10>\u001b[1;34m()\u001b[0m\n\u001b[0;32m      8\u001b[0m plt\u001b[38;5;241m.\u001b[39mylabel(\u001b[38;5;124m\"\u001b[39m\u001b[38;5;124mcelcius\u001b[39m\u001b[38;5;124m\"\u001b[39m)\n\u001b[0;32m      9\u001b[0m plt\u001b[38;5;241m.\u001b[39mplot(t_u\u001b[38;5;241m.\u001b[39mnumpy(), t_c\u001b[38;5;241m.\u001b[39mnumpy(), \u001b[38;5;124m'\u001b[39m\u001b[38;5;124mo\u001b[39m\u001b[38;5;124m'\u001b[39m)\n\u001b[1;32m---> 10\u001b[0m plt\u001b[38;5;241m.\u001b[39mplot(t_range\u001b[38;5;241m.\u001b[39mnumpy(), \u001b[43mseq_model\u001b[49m(\u001b[38;5;241m0.1\u001b[39m \u001b[38;5;241m*\u001b[39mt_range)\u001b[38;5;241m.\u001b[39mdetach()\u001b[38;5;241m.\u001b[39mnumpy(), \u001b[38;5;124m'\u001b[39m\u001b[38;5;124mc-\u001b[39m\u001b[38;5;124m'\u001b[39m)\n\u001b[0;32m     11\u001b[0m plt\u001b[38;5;241m.\u001b[39mplot(t_u\u001b[38;5;241m.\u001b[39mnumpy(),seq_model(\u001b[38;5;241m0.1\u001b[39m \u001b[38;5;241m*\u001b[39mt_u)\u001b[38;5;241m.\u001b[39mdetach()\u001b[38;5;241m.\u001b[39mnumpy(), \u001b[38;5;124m'\u001b[39m\u001b[38;5;124mkx\u001b[39m\u001b[38;5;124m'\u001b[39m)\n",
      "\u001b[1;31mNameError\u001b[0m: name 'seq_model' is not defined"
     ]
    },
    {
     "data": {
      "image/png": "[encoded data removed]",
      "text/plain": [
       "<Figure size 3600x2400 with 1 Axes>"
      ]
     },
     "metadata": {
      "needs_background": "light"
     },
     "output_type": "display_data"
    }
   ],
   "source": [
    "from matplotlib import pyplot as plt\n",
    "\n",
    "t_range = torch.arange(20., 90).unsqueeze(1)\n",
    "\n",
    "fig = plt.figure(dpi=600)\n",
    "\n",
    "plt.xlabel(\"Farenheit\")\n",
    "plt.ylabel(\"celcius\")\n",
    "plt.plot(t_u.numpy(), t_c.numpy(), 'o')\n",
    "plt.plot(t_range.numpy(), seq_model(0.1 *t_range).detach().numpy(), 'c-')\n",
    "plt.plot(t_u.numpy(),seq_model(0.1 *t_u).detach().numpy(), 'kx')"
   ]
  },
  {
   "cell_type": "code",
   "execution_count": null,
   "id": "f6736f69",
   "metadata": {},
   "outputs": [],
   "source": []
  }
 ],
 "metadata": {
  "kernelspec": {
   "display_name": "Python 3 (ipykernel)",
   "language": "python",
   "name": "python3"
  },
  "language_info": {
   "codemirror_mode": {
    "name": "ipython",
    "version": 3
   },
   "file_extension": ".py",
   "mimetype": "text/x-python",
   "name": "python",
   "nbconvert_exporter": "python",
   "pygments_lexer": "ipython3",
   "version": "3.9.12"
  }
 },
 "nbformat": 4,
 "nbformat_minor": 5
}
